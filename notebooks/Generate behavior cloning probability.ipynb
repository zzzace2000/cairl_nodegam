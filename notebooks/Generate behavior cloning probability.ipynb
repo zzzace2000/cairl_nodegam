{
 "cells": [
  {
   "cell_type": "code",
   "execution_count": 1,
   "id": "83c12111",
   "metadata": {
    "ExecuteTime": {
     "end_time": "2021-10-11T18:35:42.907334Z",
     "start_time": "2021-10-11T18:35:42.888659Z"
    }
   },
   "outputs": [],
   "source": [
    "%load_ext autoreload\n",
    "%autoreload 2"
   ]
  },
  {
   "cell_type": "code",
   "execution_count": 2,
   "id": "1830a5f4",
   "metadata": {
    "ExecuteTime": {
     "end_time": "2021-10-11T18:35:43.022122Z",
     "start_time": "2021-10-11T18:35:42.909119Z"
    }
   },
   "outputs": [],
   "source": [
    "import os\n",
    "os.chdir('../')"
   ]
  },
  {
   "cell_type": "code",
   "execution_count": 6,
   "id": "526698be",
   "metadata": {
    "ExecuteTime": {
     "end_time": "2021-10-11T18:36:20.925344Z",
     "start_time": "2021-10-11T18:36:20.224018Z"
    }
   },
   "outputs": [],
   "source": [
    "import pytorch_lightning as pl\n",
    "from lib.lightning.airl import AIRLLightning, AIRL_NODEGAM_Lightning\n",
    "from lib.lightning.bc import BC_MIMIC3_Lightning\n",
    "import numpy as np\n",
    "import pandas as pd\n",
    "import torch\n",
    "from lib.sepsis_simulator.sepsisSimDiabetes.State import State\n",
    "\n",
    "from lib.vis_utils import vis_main_effects\n",
    "from lib.lightning.utils import load_best_model_from_trained_dir\n",
    "import pickle\n",
    "import cvxpy as cvx\n",
    "from lib.utils import Timer\n",
    "from lib.mimic3.dataset import HypotensionDataset\n",
    "from lib.nodegam.utils import bin_data\n",
    "from torch.nn import functional as F\n",
    "from torch.nn.utils.rnn import pad_sequence, pack_padded_sequence, pad_packed_sequence"
   ]
  },
  {
   "cell_type": "code",
   "execution_count": null,
   "id": "3e521dc0",
   "metadata": {
    "ExecuteTime": {
     "end_time": "2021-10-11T18:35:53.064917Z",
     "start_time": "2021-10-11T18:35:45.031Z"
    }
   },
   "outputs": [],
   "source": [
    "from lib.nodegam.utils import extract_GAM, process_in_chunks, check_numpy"
   ]
  },
  {
   "cell_type": "code",
   "execution_count": 9,
   "id": "41d3131d",
   "metadata": {
    "ExecuteTime": {
     "end_time": "2021-09-10T15:32:26.213527Z",
     "start_time": "2021-09-10T15:32:22.980416Z"
    }
   },
   "outputs": [
    {
     "data": {
      "text/plain": [
       "BC_MIMIC3_Lightning(\n",
       "  (gru): GRU(74, 64, batch_first=True)\n",
       "  (out): Sequential(\n",
       "    (0): Swapaxes()\n",
       "    (1): BatchNorm1d(64, eps=1e-05, momentum=0.1, affine=True, track_running_stats=True)\n",
       "    (2): Swapaxes()\n",
       "    (3): Linear(in_features=64, out_features=256, bias=True)\n",
       "    (4): ELU(alpha=1.0)\n",
       "    (5): Swapaxes()\n",
       "    (6): BatchNorm1d(256, eps=1e-05, momentum=0.1, affine=True, track_running_stats=True)\n",
       "    (7): Swapaxes()\n",
       "    (8): Dropout(p=0.5, inplace=False)\n",
       "    (9): Linear(in_features=256, out_features=256, bias=True)\n",
       "    (10): ELU(alpha=1.0)\n",
       "    (11): Swapaxes()\n",
       "    (12): BatchNorm1d(256, eps=1e-05, momentum=0.1, affine=True, track_running_stats=True)\n",
       "    (13): Swapaxes()\n",
       "    (14): Dropout(p=0.5, inplace=False)\n",
       "    (15): Linear(in_features=256, out_features=256, bias=True)\n",
       "    (16): ELU(alpha=1.0)\n",
       "    (17): Swapaxes()\n",
       "    (18): BatchNorm1d(256, eps=1e-05, momentum=0.1, affine=True, track_running_stats=True)\n",
       "    (19): Swapaxes()\n",
       "    (20): Dropout(p=0.5, inplace=False)\n",
       "    (21): Linear(in_features=256, out_features=16, bias=True)\n",
       "  )\n",
       ")"
      ]
     },
     "execution_count": 9,
     "metadata": {},
     "output_type": "execute_result"
    }
   ],
   "source": [
    "device = 'cuda'\n",
    "\n",
    "model = load_best_model_from_trained_dir('0909_bc_s55_lr0.001_wd1e-05_bs128_nh64_nl1_dr0.0_fnh256_fnl4_fdr0.5')\n",
    "model.to(device)"
   ]
  },
  {
   "cell_type": "code",
   "execution_count": 10,
   "id": "253d3680",
   "metadata": {
    "ExecuteTime": {
     "end_time": "2021-09-10T15:47:19.523374Z",
     "start_time": "2021-09-10T15:46:51.642147Z"
    }
   },
   "outputs": [],
   "source": [
    "loader = HypotensionDataset.make_loader(\n",
    "    split='all',\n",
    "    batch_size=128,\n",
    "    shuffle=False,\n",
    "    num_workers=0,\n",
    ")"
   ]
  },
  {
   "cell_type": "code",
   "execution_count": 22,
   "id": "cc49aa2b",
   "metadata": {
    "ExecuteTime": {
     "end_time": "2021-09-10T15:52:35.043415Z",
     "start_time": "2021-09-10T15:52:11.617084Z"
    }
   },
   "outputs": [],
   "source": [
    "results = []\n",
    "for batch in loader:\n",
    "    x_len = [v.size(0) for v in batch]\n",
    "    x_pad = pad_sequence(batch, batch_first=True)\n",
    "    x_pad = x_pad.cuda()\n",
    "    \n",
    "    x_packed = pack_padded_sequence(x_pad, x_len, enforce_sorted=False, batch_first=True)\n",
    "    out, hiddens = model.gru(x_packed)\n",
    "    out_padded, _ = pad_packed_sequence(out, batch_first=True)\n",
    "    # ^-- [batch_size, max_len, hidden dim]\n",
    "    pred = model.out(out_padded)\n",
    "    \n",
    "    prob = F.softmax(pred, dim=-1).cpu()\n",
    "    results.extend([p[:the_len] for p, the_len in zip(prob, x_len)])"
   ]
  },
  {
   "cell_type": "code",
   "execution_count": 23,
   "id": "15aa0592",
   "metadata": {
    "ExecuteTime": {
     "end_time": "2021-09-10T15:52:35.089569Z",
     "start_time": "2021-09-10T15:52:35.044859Z"
    }
   },
   "outputs": [
    {
     "data": {
      "text/plain": [
       "9404"
      ]
     },
     "execution_count": 23,
     "metadata": {},
     "output_type": "execute_result"
    }
   ],
   "source": [
    "len(results)"
   ]
  },
  {
   "cell_type": "code",
   "execution_count": 25,
   "id": "a00373ff",
   "metadata": {
    "ExecuteTime": {
     "end_time": "2021-09-10T15:52:45.280781Z",
     "start_time": "2021-09-10T15:52:45.240809Z"
    }
   },
   "outputs": [
    {
     "data": {
      "text/plain": [
       "9404"
      ]
     },
     "execution_count": 25,
     "metadata": {},
     "output_type": "execute_result"
    }
   ],
   "source": [
    "len(loader.dataset.icustay_ids)"
   ]
  },
  {
   "cell_type": "code",
   "execution_count": 27,
   "id": "908c7ed1",
   "metadata": {
    "ExecuteTime": {
     "end_time": "2021-09-10T15:53:29.774829Z",
     "start_time": "2021-09-10T15:53:29.734057Z"
    }
   },
   "outputs": [],
   "source": [
    "bc_prob = {k: v for k, v in zip(loader.dataset.icustay_ids, results)}"
   ]
  },
  {
   "cell_type": "code",
   "execution_count": 33,
   "id": "2c80e967",
   "metadata": {
    "ExecuteTime": {
     "end_time": "2021-09-10T15:54:46.088599Z",
     "start_time": "2021-09-10T15:54:44.883818Z"
    }
   },
   "outputs": [],
   "source": [
    "torch.save(bc_prob, 'data/model-data3/bc_probs.pkl')"
   ]
  },
  {
   "cell_type": "code",
   "execution_count": 5,
   "id": "c6d4cd14",
   "metadata": {
    "ExecuteTime": {
     "end_time": "2021-09-24T21:57:30.871726Z",
     "start_time": "2021-09-24T21:57:30.614392Z"
    }
   },
   "outputs": [],
   "source": [
    "bc_prob = torch.load('data/model-data3/bc_probs.pkl')"
   ]
  },
  {
   "cell_type": "code",
   "execution_count": 8,
   "id": "4bab101b",
   "metadata": {
    "ExecuteTime": {
     "end_time": "2021-09-24T21:58:20.335892Z",
     "start_time": "2021-09-24T21:58:19.865236Z"
    }
   },
   "outputs": [],
   "source": [
    "arr = []\n",
    "for k, p in bc_prob.items():\n",
    "    arr.append(p)\n",
    "arr = torch.cat(arr)"
   ]
  },
  {
   "cell_type": "code",
   "execution_count": 9,
   "id": "7f5ce161",
   "metadata": {
    "ExecuteTime": {
     "end_time": "2021-09-24T21:58:23.126483Z",
     "start_time": "2021-09-24T21:58:22.830708Z"
    }
   },
   "outputs": [
    {
     "data": {
      "text/plain": [
       "torch.Size([262578, 16])"
      ]
     },
     "execution_count": 9,
     "metadata": {},
     "output_type": "execute_result"
    }
   ],
   "source": [
    "arr.shape"
   ]
  },
  {
   "cell_type": "code",
   "execution_count": 10,
   "id": "78dc9f6a",
   "metadata": {
    "ExecuteTime": {
     "end_time": "2021-09-24T21:58:27.631729Z",
     "start_time": "2021-09-24T21:58:27.555556Z"
    }
   },
   "outputs": [
    {
     "data": {
      "text/plain": [
       "tensor([0.6563, 0.0229, 0.0271, 0.0225, 0.1012, 0.0029, 0.0084, 0.0113, 0.0684,\n",
       "        0.0022, 0.0045, 0.0069, 0.0516, 0.0029, 0.0039, 0.0072])"
      ]
     },
     "execution_count": 10,
     "metadata": {},
     "output_type": "execute_result"
    }
   ],
   "source": [
    "arr.mean(dim=0)"
   ]
  },
  {
   "cell_type": "markdown",
   "id": "48863b5a",
   "metadata": {},
   "source": [
    "Check if it works and accuracy"
   ]
  },
  {
   "cell_type": "code",
   "execution_count": 12,
   "id": "98313357",
   "metadata": {
    "ExecuteTime": {
     "end_time": "2021-10-07T13:55:26.899454Z",
     "start_time": "2021-10-07T13:55:26.858062Z"
    }
   },
   "outputs": [],
   "source": [
    "from lib.mimic3.dataset import HypotensionWithBCProbDataset"
   ]
  },
  {
   "cell_type": "code",
   "execution_count": 13,
   "id": "9470496c",
   "metadata": {
    "ExecuteTime": {
     "end_time": "2021-10-07T13:55:32.092446Z",
     "start_time": "2021-10-07T13:55:27.807445Z"
    }
   },
   "outputs": [
    {
     "name": "stdout",
     "output_type": "stream",
     "text": [
      "Finish \"Load cached normalized dataset: ./data/model-data3/normalized_states.pth\" in 4.0s\n"
     ]
    }
   ],
   "source": [
    "the_cls = HypotensionWithBCProbDataset\n",
    "\n",
    "loader = the_cls.make_loader(\n",
    "    data_kwargs=dict(\n",
    "        fold=0,\n",
    "        preprocess='quantile',\n",
    "    ),\n",
    "    split='test',\n",
    "    batch_size=256,\n",
    "    shuffle=False,\n",
    "    num_workers=0,\n",
    ")"
   ]
  },
  {
   "cell_type": "code",
   "execution_count": 35,
   "id": "f9ce9052",
   "metadata": {
    "ExecuteTime": {
     "end_time": "2021-10-07T14:04:35.305512Z",
     "start_time": "2021-10-07T14:04:35.181113Z"
    }
   },
   "outputs": [],
   "source": [
    "from torch.nn.utils.rnn import pad_sequence, pack_sequence\n",
    "\n",
    "\n",
    "bc_prob_total, total = 0, 0\n",
    "\n",
    "for x in loader:\n",
    "    x_list = x['x_list']\n",
    "    bc_prob = x['bc_prob']\n",
    "    \n",
    "    x_len = [v.size(0) for v in x_list]\n",
    "    x_pad = pad_sequence(x_list, batch_first=True)\n",
    "    bc_prob_pad = pad_sequence(bc_prob, batch_first=True)\n",
    "\n",
    "    states = HypotensionWithBCProbDataset.extract_cur_s(x_pad, state_type='all')\n",
    "    actions = HypotensionWithBCProbDataset.extract_cur_a(x_pad, form='act_idx')\n",
    "\n",
    "    # Construct the\n",
    "    is_valid = states.new_zeros(*states.shape[:2]).bool()\n",
    "    for idx, l in enumerate(x_len):\n",
    "        is_valid[idx, :(l-1)] = True\n",
    "\n",
    "    actions = actions[is_valid]\n",
    "    bc_prob_pad = bc_prob_pad[:, :-1, :][is_valid]\n",
    "    \n",
    "    the_bc_prob = bc_prob_pad.gather(1, actions.unsqueeze(-1)).squeeze(-1)\n",
    "    \n",
    "    bc_prob_total += the_bc_prob.sum()\n",
    "    total += the_bc_prob.shape[0]"
   ]
  },
  {
   "cell_type": "code",
   "execution_count": 36,
   "id": "b658650d",
   "metadata": {
    "ExecuteTime": {
     "end_time": "2021-10-07T14:04:39.397335Z",
     "start_time": "2021-10-07T14:04:39.356052Z"
    }
   },
   "outputs": [
    {
     "data": {
      "text/plain": [
       "tensor(0.7141)"
      ]
     },
     "execution_count": 36,
     "metadata": {},
     "output_type": "execute_result"
    }
   ],
   "source": [
    "bc_prob_total / total"
   ]
  },
  {
   "cell_type": "code",
   "execution_count": null,
   "id": "036e6413",
   "metadata": {},
   "outputs": [],
   "source": []
  },
  {
   "cell_type": "markdown",
   "id": "6b2a5b52",
   "metadata": {},
   "source": [
    "## Other folds of models: what's their accuracy?"
   ]
  },
  {
   "cell_type": "code",
   "execution_count": 4,
   "id": "7fbbca44",
   "metadata": {
    "ExecuteTime": {
     "end_time": "2021-10-11T18:35:56.065181Z",
     "start_time": "2021-10-11T18:35:56.030102Z"
    }
   },
   "outputs": [],
   "source": [
    "fold = 0"
   ]
  },
  {
   "cell_type": "code",
   "execution_count": 13,
   "id": "23684f30",
   "metadata": {
    "ExecuteTime": {
     "end_time": "2021-10-11T18:40:26.983691Z",
     "start_time": "2021-10-11T18:40:26.266898Z"
    }
   },
   "outputs": [],
   "source": [
    "def bc_acc(fold=0, device='cuda'):\n",
    "    with torch.no_grad():\n",
    "        model = load_best_model_from_trained_dir(f'1018_bc_best_f{fold}__bc_s55_lr0.001_wd1e-05_bs128_nh64_nl1_dr0.0_fnh256_fnl4_fdr0.5')\n",
    "        model.to(device)\n",
    "\n",
    "        # the_cls = HypotensionWithBCProbDataset\n",
    "        loader = HypotensionDataset.make_loader(\n",
    "            data_kwargs=dict(\n",
    "                fold=fold,\n",
    "                preprocess='quantile',\n",
    "            ),\n",
    "            split='test',\n",
    "            batch_size=256,\n",
    "            shuffle=False,\n",
    "            num_workers=0,\n",
    "        )\n",
    "\n",
    "        bc_prob_total, total = 0, 0\n",
    "        for batch in loader:\n",
    "            ## Cal model probability\n",
    "            x_len = [v.size(0) for v in batch['x_list']]\n",
    "            x_pad = pad_sequence(batch['x_list'], batch_first=True)\n",
    "            x_pad = x_pad.to(device)\n",
    "\n",
    "            x_packed = pack_padded_sequence(x_pad, x_len, enforce_sorted=False, batch_first=True)\n",
    "            out, hiddens = model.gru(x_packed)\n",
    "            out_padded, _ = pad_packed_sequence(out, batch_first=True)\n",
    "            # ^-- [batch_size, max_len, hidden dim]\n",
    "            pred = model.out(out_padded)\n",
    "\n",
    "            bc_prob_pad = F.softmax(pred, dim=-1)\n",
    "\n",
    "            ## Cal the expert actions\n",
    "            states = HypotensionDataset.extract_cur_s(x_pad, state_type='all')\n",
    "            actions = HypotensionDataset.extract_cur_a(x_pad, form='act_idx')\n",
    "\n",
    "            # Construct the\n",
    "            is_valid = states.new_zeros(*states.shape[:2]).bool()\n",
    "            for idx, l in enumerate(x_len):\n",
    "                is_valid[idx, :(l-1)] = True\n",
    "\n",
    "            actions = actions[is_valid]\n",
    "            bc_prob_pad = bc_prob_pad[:, :-1, :][is_valid]\n",
    "\n",
    "            the_bc_prob = bc_prob_pad.gather(1, actions.unsqueeze(-1)).squeeze(-1)\n",
    "\n",
    "            bc_prob_total += the_bc_prob.sum()\n",
    "            total += the_bc_prob.shape[0]\n",
    "        \n",
    "        return bc_prob_total / total"
   ]
  },
  {
   "cell_type": "code",
   "execution_count": 17,
   "id": "1933306f",
   "metadata": {
    "ExecuteTime": {
     "end_time": "2021-10-11T18:41:24.212628Z",
     "start_time": "2021-10-11T18:41:14.750099Z"
    }
   },
   "outputs": [
    {
     "name": "stdout",
     "output_type": "stream",
     "text": [
      "rsync -avzL v:/h/kingsley/irl_nodegam/logs/1018_bc_best_f2__bc_s55_lr0.001_wd1e-05_bs128_nh64_nl1_dr0.0_fnh256_fnl4_fdr0.5 ./logs/\n",
      "rsync -avzL v:/h/kingsley/irl_nodegam/logs/hparams/1018_bc_best_f3__bc_s55_lr0.001_wd1e-05_bs128_nh64_nl1_dr0.0_fnh256_fnl4_fdr0.5 ./logs/hparams/\n",
      "rsync -avzL v:/h/kingsley/irl_nodegam/logs/1018_bc_best_f3__bc_s55_lr0.001_wd1e-05_bs128_nh64_nl1_dr0.0_fnh256_fnl4_fdr0.5 ./logs/\n",
      "rsync -avzL v:/h/kingsley/irl_nodegam/logs/hparams/1018_bc_best_f4__bc_s55_lr0.001_wd1e-05_bs128_nh64_nl1_dr0.0_fnh256_fnl4_fdr0.5 ./logs/hparams/\n",
      "rsync -avzL v:/h/kingsley/irl_nodegam/logs/1018_bc_best_f4__bc_s55_lr0.001_wd1e-05_bs128_nh64_nl1_dr0.0_fnh256_fnl4_fdr0.5 ./logs/\n"
     ]
    },
    {
     "data": {
      "text/plain": [
       "[tensor(0.7276, device='cuda:0'),\n",
       " tensor(0.7013, device='cuda:0'),\n",
       " tensor(0.7188, device='cuda:0'),\n",
       " tensor(0.7278, device='cuda:0'),\n",
       " tensor(0.7258, device='cuda:0')]"
      ]
     },
     "execution_count": 17,
     "metadata": {},
     "output_type": "execute_result"
    }
   ],
   "source": [
    "accs = [bc_acc(fold) for fold in range(5)]\n",
    "accs"
   ]
  },
  {
   "cell_type": "code",
   "execution_count": 18,
   "id": "03b7c85d",
   "metadata": {
    "ExecuteTime": {
     "end_time": "2021-10-11T18:41:47.550423Z",
     "start_time": "2021-10-11T18:41:46.829747Z"
    }
   },
   "outputs": [
    {
     "data": {
      "text/plain": [
       "(0.7202484011650085, 0.010020756865764154)"
      ]
     },
     "execution_count": 18,
     "metadata": {},
     "output_type": "execute_result"
    }
   ],
   "source": [
    "accs = [a.item() for a in accs]\n",
    "np.mean(accs), np.std(accs)"
   ]
  }
 ],
 "metadata": {
  "kernelspec": {
   "display_name": "cu101",
   "language": "python",
   "name": "cu101"
  },
  "language_info": {
   "codemirror_mode": {
    "name": "ipython",
    "version": 3
   },
   "file_extension": ".py",
   "mimetype": "text/x-python",
   "name": "python",
   "nbconvert_exporter": "python",
   "pygments_lexer": "ipython3",
   "version": "3.6.10"
  },
  "toc": {
   "base_numbering": 1,
   "nav_menu": {},
   "number_sections": true,
   "sideBar": true,
   "skip_h1_title": false,
   "title_cell": "Table of Contents",
   "title_sidebar": "Contents",
   "toc_cell": false,
   "toc_position": {},
   "toc_section_display": true,
   "toc_window_display": true
  }
 },
 "nbformat": 4,
 "nbformat_minor": 5
}
